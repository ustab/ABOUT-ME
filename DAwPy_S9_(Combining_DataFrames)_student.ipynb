{
  "cells": [
    {
      "cell_type": "markdown",
      "metadata": {
        "id": "view-in-github",
        "colab_type": "text"
      },
      "source": [
        "<a href=\"https://colab.research.google.com/github/ustab/ALL-ABOUT-ME/blob/main/DAwPy_S9_(Combining_DataFrames)_student.ipynb\" target=\"_parent\"><img src=\"https://colab.research.google.com/assets/colab-badge.svg\" alt=\"Open In Colab\"/></a>"
      ]
    },
    {
      "cell_type": "markdown",
      "metadata": {
        "id": "RIcz-kOsv1Va"
      },
      "source": [
        "___\n",
        "\n",
        "<p style=\"text-align: center;\"><img src=\"https://docs.google.com/uc?id=1lY0Uj5R04yMY3-ZppPWxqCr5pvBLYPnV\" class=\"img-fluid\" \n",
        "alt=\"CLRSWY\"></p>\n",
        "\n",
        "## <p style=\"background-color:#FDFEFE; font-family:newtimeroman; color:#9d4f8c; font-size:100%; text-align:center; border-radius:10px 10px;\">WAY TO REINVENT YOURSELF</p>"
      ]
    },
    {
      "cell_type": "markdown",
      "metadata": {
        "id": "MnWRPR7htwjP"
      },
      "source": [
        "<img src=https://i.ibb.co/6gCsHd6/1200px-Pandas-logo-svg.png width=\"700\" height=\"200\">\n",
        "\n",
        "## <p style=\"background-color:#FDFEFE; font-family:newtimeroman; color:#060108; font-size:200%; text-align:center; border-radius:10px 10px;\">Data Analysis with Python</p>\n",
        "\n",
        "## <p style=\"background-color:#FDFEFE; font-family:newtimeroman; color:#060108; font-size:150%; text-align:center; border-radius:10px 10px;\">Session - 09</p>\n",
        "\n",
        "## <p style=\"background-color:#FDFEFE; font-family:newtimeroman; color:#4d77cf; font-size:200%; text-align:center; border-radius:10px 10px;\">Combining DataFrames</p>"
      ]
    },
    {
      "cell_type": "markdown",
      "metadata": {
        "id": "lOaMKDtstwjP"
      },
      "source": [
        "<a id=\"toc\"></a>\n",
        "\n",
        "## <p style=\"background-color:#9d4f8c; font-family:newtimeroman; color:#FFF9ED; font-size:175%; text-align:center; border-radius:10px 10px;\">Content</p>\n",
        "\n",
        "* [IMPORTING LIBRARIES NEEDED IN THIS NOTEBOOK](#0)\n",
        "* [COMBINING DATAFRAMES](#1)\n",
        "* [APPENDING](#2)\n",
        "* [CONCATENATION](#3)    \n",
        "* [MERGING](#4)  \n",
        "* [JOINING](#5)    \n",
        "* [MORE EXAMPLES](#6)  \n",
        "* [THE END OF THE SESSION - 09](#7)"
      ]
    },
    {
      "cell_type": "markdown",
      "metadata": {
        "id": "yhoXH1nKtwjP"
      },
      "source": [
        "## <p style=\"background-color:#9d4f8c; font-family:newtimeroman; color:#FFF9ED; font-size:175%; text-align:center; border-radius:10px 10px;\">Importing Libraries Needed in This Notebook</p>\n",
        "\n",
        "<a id=\"0\"></a>\n",
        "<a href=\"#toc\" class=\"btn btn-primary btn-sm\" role=\"button\" aria-pressed=\"true\" \n",
        "style=\"color:blue; background-color:#dfa8e4\" data-toggle=\"popover\">Content</a>\n",
        "\n",
        "Once you've installed NumPy & Pandas you can import them as a library:"
      ]
    },
    {
      "cell_type": "code",
      "execution_count": null,
      "metadata": {
        "id": "FAWmWctsv1Vh"
      },
      "outputs": [],
      "source": [
        "import numpy as np\n",
        "import pandas as pd\n",
        "import seaborn as sns"
      ]
    },
    {
      "cell_type": "markdown",
      "metadata": {
        "collapsed": true,
        "id": "G8WzD90tv1Vg"
      },
      "source": [
        "## <p style=\"background-color:#9d4f8c; font-family:newtimeroman; color:#FFF9ED; font-size:175%; text-align:center; border-radius:10px 10px;\">Combining DataFrames</p>\n",
        "\n",
        "<a id=\"1\"></a>\n",
        "<a href=\"#toc\" class=\"btn btn-primary btn-sm\" role=\"button\" aria-pressed=\"true\" \n",
        "style=\"color:blue; background-color:#dfa8e4\" data-toggle=\"popover\">Content</a>\n",
        "\n",
        "There are 4 **main ways** of combining DataFrames together: Appending, Concatenating, Joining and Merging. In this lecture we will discuss these 4 methods with examples [A Detailed Video Source](https://www.youtube.com/watch?v=g7n1MZyYjOM).\n",
        "\n",
        " - **Append** is the specific case(axis=0, join='outer') of concat\n",
        "\n",
        " - **Concat** gives the flexibility to join based on the axis( all rows or all columns)\n",
        " \n",
        " - **Join** is based on the indexes (set by set_index)/key columns on how variable =['left','right','inner','outer']\n",
        "\n",
        " - **Merge** is based on any particular column each of the two dataframes, this columns are variables on like 'left_on', 'right_on', 'on'"
      ]
    },
    {
      "cell_type": "markdown",
      "metadata": {
        "id": "MHnw2iOsv1Vh"
      },
      "source": [
        "### Example DataFrames"
      ]
    },
    {
      "cell_type": "code",
      "execution_count": null,
      "metadata": {
        "id": "VNf-LT4cv1Vj"
      },
      "outputs": [],
      "source": [
        "df1 = pd.DataFrame({'A': ['A0', 'A1', 'A2', 'A3'],\n",
        "                    'B': ['B0', 'B1', 'B2', 'B3'],\n",
        "                    'C': ['C0', 'C1', 'C2', 'C3'],\n",
        "                    'D': ['D0', 'D1', 'D2', 'D3']}\n",
        "                    )"
      ]
    },
    {
      "cell_type": "code",
      "execution_count": null,
      "metadata": {
        "id": "BAxUBssCv1Vk"
      },
      "outputs": [],
      "source": [
        "df2 = pd.DataFrame({'A': ['A4', 'A5', 'A6', 'A7'],\n",
        "                    'B': ['B4', 'B5', 'B6', 'B7'],\n",
        "                    'C': ['C4', 'C5', 'C6', 'C7'],\n",
        "                    'D': ['D4', 'D5', 'D6', 'D7']}\n",
        "                    ) "
      ]
    },
    {
      "cell_type": "code",
      "execution_count": null,
      "metadata": {
        "id": "EC3YzPeGv1Vk"
      },
      "outputs": [],
      "source": [
        "df3 = pd.DataFrame({'A': ['A8', 'A9', 'A10', 'A11'],\n",
        "                    'B': ['B8', 'B9', 'B10', 'B11'],\n",
        "                    'C': ['C8', 'C9', 'C10', 'C11'],\n",
        "                    'D': ['D8', 'D9', 'D10', 'D11']}\n",
        "                   )"
      ]
    },
    {
      "cell_type": "code",
      "execution_count": null,
      "metadata": {
        "id": "30WJt7ts9-n9"
      },
      "outputs": [],
      "source": [
        "df4 = pd.DataFrame({'C': ['C12', 'C13', 'C14', 'C15'],\n",
        "                    'A': ['A12', 'A13', 'A14', 'A15'],\n",
        "                    'D': ['D12', 'D13', 'D14', 'D15'],\n",
        "                    'B': ['B12', 'B13', 'B14', 'B15']}\n",
        "                    )"
      ]
    },
    {
      "cell_type": "code",
      "execution_count": null,
      "metadata": {
        "id": "1BhC3MiwtwjT"
      },
      "outputs": [],
      "source": [
        "display(df1,df2,df3,df4)"
      ]
    },
    {
      "cell_type": "markdown",
      "metadata": {
        "id": "Qd1HZByX9-oB"
      },
      "source": [
        "## <p style=\"background-color:#9d4f8c; font-family:newtimeroman; color:#FFF9ED; font-size:175%; text-align:center; border-radius:10px 10px;\">Appending</p>\n",
        "\n",
        "<a id=\"2\"></a>\n",
        "<a href=\"#toc\" class=\"btn btn-primary btn-sm\" role=\"button\" aria-pressed=\"true\" \n",
        "style=\"color:blue; background-color:#dfa8e4\" data-toggle=\"popover\">Content</a>\n",
        "\n",
        "The most basic way of combining method for DataFrames.\n",
        "\n",
        "Pandas dataframe.append() function is used to **append rows of other dataframe to the end of the given dataframe,** returning a new dataframe object. Columns not in the original dataframes are added as new columns and the new cells are populated with NaN value [Source 01](https://pandas.pydata.org/docs/reference/api/pandas.DataFrame.append.html), [Source 02](https://www.geeksforgeeks.org/python-pandas-dataframe-append/), [Source 03](https://pythonprogramming.net/concatenate-append-data-analysis-python-pandas-tutorial/) & [Source 04](https://www.journaldev.com/33465/pandas-dataframe-append-function)."
      ]
    },
    {
      "cell_type": "code",
      "execution_count": null,
      "metadata": {
        "id": "Dj-QeXNWtwjT"
      },
      "outputs": [],
      "source": [
        ""
      ]
    },
    {
      "cell_type": "code",
      "execution_count": null,
      "metadata": {
        "id": "5ZnWWLC6twjT"
      },
      "outputs": [],
      "source": [
        ""
      ]
    },
    {
      "cell_type": "markdown",
      "metadata": {
        "id": "TPISs0qatwjT"
      },
      "source": [
        "**\"ignore_index\"** clears the existing index and reset it in the result by setting the ignore_index option to True."
      ]
    },
    {
      "cell_type": "code",
      "execution_count": null,
      "metadata": {
        "id": "qFn9q0h-twjU"
      },
      "outputs": [],
      "source": [
        ""
      ]
    },
    {
      "cell_type": "markdown",
      "metadata": {
        "id": "8Xx5dLuFv1Vn"
      },
      "source": [
        "## <p style=\"background-color:#9d4f8c; font-family:newtimeroman; color:#FFF9ED; font-size:175%; text-align:center; border-radius:10px 10px;\">Concatenation</p>\n",
        "\n",
        "<a id=\"3\"></a>\n",
        "<a href=\"#toc\" class=\"btn btn-primary btn-sm\" role=\"button\" aria-pressed=\"true\" \n",
        "style=\"color:blue; background-color:#dfa8e4\" data-toggle=\"popover\">Content</a>\n",
        "\n",
        "Concatenate pandas objects along a particular axis with optional set logic along the other axes.\n",
        "\n",
        "Concatenation basically glues together DataFrames. Keep in mind that dimensions should match along the axis you are concatenating on. You can use **pd.concat** and pass in a list of DataFrames to concatenate together [Source 01](https://pandas.pydata.org/docs/reference/api/pandas.concat.html), [Source 02](https://pandas.pydata.org/pandas-docs/stable/user_guide/merging.html), [Source 03](https://towardsdatascience.com/pandas-concat-tricks-you-should-know-to-speed-up-your-data-analysis-cd3d4fdfe6dd) & [Source 04](https://www.journaldev.com/33320/pandas-concat-examples):\n",
        "\n",
        "**``pandas.concat(objs, axis=0, join='outer', ignore_index=False, keys=None, levels=None, names=None, verify_integrity=False, sort=False, copy=True)``**"
      ]
    },
    {
      "cell_type": "code",
      "execution_count": null,
      "metadata": {
        "id": "gNNLYgGEtwjU"
      },
      "outputs": [],
      "source": [
        ""
      ]
    },
    {
      "cell_type": "code",
      "execution_count": null,
      "metadata": {
        "id": "H8JiamB7twjU"
      },
      "outputs": [],
      "source": [
        ""
      ]
    },
    {
      "cell_type": "code",
      "execution_count": null,
      "metadata": {
        "id": "0kFBPGT8twjU"
      },
      "outputs": [],
      "source": [
        ""
      ]
    },
    {
      "cell_type": "code",
      "execution_count": null,
      "metadata": {
        "id": "kNIFYedetwjU"
      },
      "outputs": [],
      "source": [
        ""
      ]
    },
    {
      "cell_type": "code",
      "execution_count": null,
      "metadata": {
        "id": "gR1hZ02ytwjU"
      },
      "outputs": [],
      "source": [
        ""
      ]
    },
    {
      "cell_type": "code",
      "execution_count": null,
      "metadata": {
        "id": "14tPBEF_twjU"
      },
      "outputs": [],
      "source": [
        "df4 = pd.DataFrame({'A': ['A0', 'A1', 'A2', 'A3'],\n",
        "                    'B': ['B0', 'B1', 'B2', 'B3'],\n",
        "                    'C': ['C0', 'C1', 'C2', 'C3'],\n",
        "                    'D': ['D0', 'D1', 'D2', 'D3']},\n",
        "                    index=[0, 1, 2, 3])\n",
        "\n",
        "df5 = pd.DataFrame({'A': ['A4', 'A5', 'A6', 'A7'],\n",
        "                    'B': ['B4', 'B5', 'B6', 'B7'],\n",
        "                    'C': ['C4', 'C5', 'C6', 'C7'],\n",
        "                    'D': ['D4', 'D5', 'D6', 'D7']},\n",
        "                    index=[4, 5, 6, 7]) \n",
        "\n",
        "df6 = pd.DataFrame({'A': ['A8', 'A9', 'A10', 'A11'],\n",
        "                    'B': ['B8', 'B9', 'B10', 'B11'],\n",
        "                    'C': ['C8', 'C9', 'C10', 'C11'],\n",
        "                    'D': ['D8', 'D9', 'D10', 'D11']},\n",
        "                    index=[8, 9, 10, 11])"
      ]
    },
    {
      "cell_type": "code",
      "execution_count": null,
      "metadata": {
        "id": "AJhMYpAptwjU"
      },
      "outputs": [],
      "source": [
        "display(df4,df5,df6)"
      ]
    },
    {
      "cell_type": "code",
      "execution_count": null,
      "metadata": {
        "id": "zQCm8uXUtwjU"
      },
      "outputs": [],
      "source": [
        ""
      ]
    },
    {
      "cell_type": "code",
      "execution_count": null,
      "metadata": {
        "id": "MsTNQKUVtwjV"
      },
      "outputs": [],
      "source": [
        ""
      ]
    },
    {
      "cell_type": "code",
      "execution_count": null,
      "metadata": {
        "id": "g5th8E-3twjV"
      },
      "outputs": [],
      "source": [
        ""
      ]
    },
    {
      "cell_type": "code",
      "execution_count": null,
      "metadata": {
        "id": "Hq8iw-fytwjV"
      },
      "outputs": [],
      "source": [
        ""
      ]
    },
    {
      "cell_type": "markdown",
      "metadata": {
        "id": "sqwxgk7_twjV"
      },
      "source": [
        "Notice that the concatenation is performed row-wise i.e. 0-axis. Also, the indexes from the source DataFrame objects are preserved in the output.\n",
        "\n",
        "You can find a discussion and more information about [\"What are the 'levels', 'keys', and names arguments for in Pandas' concat function?\"](https://stackoverflow.com/questions/49620538/what-are-the-levels-keys-and-names-arguments-for-in-pandas-concat-functio) on stackoverflow."
      ]
    },
    {
      "cell_type": "code",
      "source": [
        ""
      ],
      "metadata": {
        "id": "YwMXqxq3NNnB"
      },
      "execution_count": null,
      "outputs": []
    },
    {
      "cell_type": "markdown",
      "metadata": {
        "id": "vLzr0_MWv1Vr"
      },
      "source": [
        "## <p style=\"background-color:#9d4f8c; font-family:newtimeroman; color:#FFF9ED; font-size:175%; text-align:center; border-radius:10px 10px;\">Merging</p>\n",
        "\n",
        "<a id=\"4\"></a>\n",
        "<a href=\"#toc\" class=\"btn btn-primary btn-sm\" role=\"button\" aria-pressed=\"true\" \n",
        "style=\"color:blue; background-color:#dfa8e4\" data-toggle=\"popover\">Content</a>\n",
        "\n",
        "The **merge()** function allows you to merge DataFrames together using a similar logic as merging SQL Tables together. For example [Source 01](https://www.brainstobytes.com/hands-on-pandas-9-merging-dataframes/), [Source 02](https://www.shanelynn.ie/merge-join-dataframes-python-pandas-index-1/), [Source 03](https://towardsdatascience.com/combining-dataframes-using-pandas-b9e2e83b9869):\n",
        "\n",
        "**``DataFrame.merge(right, how='inner', on=None, left_on=None, right_on=None, left_index=False, right_index=False, sort=False, suffixes=('_x', '_y'), copy=True, indicator=False, validate=None)``**"
      ]
    },
    {
      "cell_type": "code",
      "execution_count": null,
      "metadata": {
        "id": "zdVgX5L4v1Vq"
      },
      "outputs": [],
      "source": [
        "left = pd.DataFrame({'key': ['K0', 'K1', 'K2', 'K3'],\n",
        "                     'A': ['A0', 'A1', 'A2', 'A3'],\n",
        "                     'B': ['B0', 'B1', 'B2', 'B3']})\n",
        "   \n",
        "right = pd.DataFrame({'key': ['K0', 'K1', 'K2', 'K3'],\n",
        "                      'C': ['C0', 'C1', 'C2', 'C3'],\n",
        "                      'D': ['D0', 'D1', 'D2', 'D3']})    "
      ]
    },
    {
      "cell_type": "code",
      "execution_count": null,
      "metadata": {
        "id": "asYU6sWItwjV"
      },
      "outputs": [],
      "source": [
        "display(left, right)"
      ]
    },
    {
      "cell_type": "markdown",
      "metadata": {
        "id": "GMyuZCl6twjV"
      },
      "source": [
        "**Let's dive into merge()**"
      ]
    },
    {
      "cell_type": "code",
      "execution_count": null,
      "metadata": {
        "id": "c1xV5pkItwjV"
      },
      "outputs": [],
      "source": [
        ""
      ]
    },
    {
      "cell_type": "code",
      "execution_count": null,
      "metadata": {
        "id": "8pcmq5jLv1Vr"
      },
      "outputs": [],
      "source": [
        "left2 = pd.DataFrame({'key': ['K0', 'K1', 'K4', 'K5'],\n",
        "                     'A': ['A0', 'A1', 'A2', 'A3'],\n",
        "                     'B': ['B0', 'B1', 'B2', 'B3']})\n",
        "   \n",
        "right2 = pd.DataFrame({'key': ['K0', 'K1', 'K2', 'K3'],\n",
        "                       'C': ['C0', 'C1', 'C2', 'C3'],\n",
        "                       'D': ['D0', 'D1', 'D2', 'D3']}) "
      ]
    },
    {
      "cell_type": "code",
      "execution_count": null,
      "metadata": {
        "id": "76Wdq_Sjv1Vr"
      },
      "outputs": [],
      "source": [
        "display(left2, right2)"
      ]
    },
    {
      "cell_type": "code",
      "execution_count": null,
      "metadata": {
        "id": "Gud4w3lStwjW"
      },
      "outputs": [],
      "source": [
        ""
      ]
    },
    {
      "cell_type": "code",
      "execution_count": null,
      "metadata": {
        "id": "8UlTCqyWtwjW"
      },
      "outputs": [],
      "source": [
        ""
      ]
    },
    {
      "cell_type": "code",
      "execution_count": null,
      "metadata": {
        "id": "fUmwQCIntwjW"
      },
      "outputs": [],
      "source": [
        ""
      ]
    },
    {
      "cell_type": "code",
      "execution_count": null,
      "metadata": {
        "id": "7uwZEoTxtwjW"
      },
      "outputs": [],
      "source": [
        ""
      ]
    },
    {
      "cell_type": "markdown",
      "metadata": {
        "id": "IbvQ2MH9twjW"
      },
      "source": [
        "Or to show a more complicated example:"
      ]
    },
    {
      "cell_type": "code",
      "execution_count": null,
      "metadata": {
        "id": "mMsvS7Ynv1Vs"
      },
      "outputs": [],
      "source": [
        "left3 = pd.DataFrame({'key': ['K0', 'K0', 'K1', 'K1'],\n",
        "                     'A': ['A0', 'A1', 'A2', 'A3'],\n",
        "                     'B': ['B0', 'B1', 'B2', 'B3']})\n",
        "   \n",
        "right3 = pd.DataFrame({'key': ['K0', 'K1', 'K2', 'K2'],\n",
        "                       'C': ['C0', 'C1', 'C2', 'C3'],\n",
        "                       'D': ['D0', 'D1', 'D2', 'D3']})"
      ]
    },
    {
      "cell_type": "code",
      "execution_count": null,
      "metadata": {
        "id": "lZ9bdQDZv1Vs"
      },
      "outputs": [],
      "source": [
        "display(left3, right3)"
      ]
    },
    {
      "cell_type": "code",
      "execution_count": null,
      "metadata": {
        "id": "HIfXVLg4twjW"
      },
      "outputs": [],
      "source": [
        ""
      ]
    },
    {
      "cell_type": "code",
      "execution_count": null,
      "metadata": {
        "id": "zP588EmUtwjW"
      },
      "outputs": [],
      "source": [
        ""
      ]
    },
    {
      "cell_type": "code",
      "execution_count": null,
      "metadata": {
        "id": "pgs82dDztwjW"
      },
      "outputs": [],
      "source": [
        ""
      ]
    },
    {
      "cell_type": "code",
      "execution_count": null,
      "metadata": {
        "id": "ovwyUo-itwjW"
      },
      "outputs": [],
      "source": [
        ""
      ]
    },
    {
      "cell_type": "markdown",
      "metadata": {
        "id": "knAZb_yzv1Vt"
      },
      "source": [
        "As seen, similar to join, merge also combines all the columns from the two tables, with the common columns renamed with the defined suffixes.\n",
        "\n",
        "However, merge provides three ways of flexible control over row-wise alignment.\n",
        "\n",
        "- **The first way** is to use “on = COLUMN NAME”, here the given column must be the common column in both tables. \n",
        "\n",
        "- **The second way** is to use “left_on = COLUMN NAME and right_on = COLUMN NAME” , and it allows to align the two tables using two different columns.\n",
        "\n",
        "- **The third way** is to use “left_index = True and right_index = True”, and the two tables are aligned based on their indexes.\n",
        "\n",
        "Let's dive into more complicated examples:"
      ]
    },
    {
      "cell_type": "code",
      "execution_count": null,
      "metadata": {
        "id": "e-gvph8iv1Vt"
      },
      "outputs": [],
      "source": [
        "left4 = pd.DataFrame({'key1': ['K0', 'K0', 'K1', 'K2'],\n",
        "                     'key2': ['K0', 'K1', 'K0', 'K1'],\n",
        "                        'A': ['A0', 'A1', 'A2', 'A3'],\n",
        "                        'B': ['B0', 'B1', 'B2', 'B3']})\n",
        "    \n",
        "right4 = pd.DataFrame({'key1': ['K0', 'K1', 'K1', 'K2'],\n",
        "                       'key2': ['K0', 'K0', 'K0', 'K0'],\n",
        "                       'C': ['C0', 'C1', 'C2', 'C3'],\n",
        "                       'D': ['D0', 'D1', 'D2', 'D3']})"
      ]
    },
    {
      "cell_type": "code",
      "execution_count": null,
      "metadata": {
        "id": "ac0gQh4Yv1Vt"
      },
      "outputs": [],
      "source": [
        "display(left4, right4)"
      ]
    },
    {
      "cell_type": "code",
      "execution_count": null,
      "metadata": {
        "id": "GEPl9cTptwjX"
      },
      "outputs": [],
      "source": [
        ""
      ]
    },
    {
      "cell_type": "code",
      "execution_count": null,
      "metadata": {
        "id": "P_3vYMLctwjX"
      },
      "outputs": [],
      "source": [
        ""
      ]
    },
    {
      "cell_type": "code",
      "execution_count": null,
      "metadata": {
        "id": "n0Iud5XStwjX"
      },
      "outputs": [],
      "source": [
        ""
      ]
    },
    {
      "cell_type": "code",
      "execution_count": null,
      "metadata": {
        "id": "AwvPc4NRtwjX"
      },
      "outputs": [],
      "source": [
        ""
      ]
    },
    {
      "cell_type": "code",
      "execution_count": null,
      "metadata": {
        "id": "UUyG9thvtwjX"
      },
      "outputs": [],
      "source": [
        "left5 = pd.DataFrame({'lkey': ['x', 'y', 'z', 'x', 'z'],\n",
        "                     'lvalue': [2, 3, 5, 7, 0]})\n",
        "\n",
        "right5 = pd.DataFrame({'rkey': ['a', 'x', 'z', 'b'],\n",
        "                     'rvalue': [7, 8, 9, 10]})"
      ]
    },
    {
      "cell_type": "code",
      "execution_count": null,
      "metadata": {
        "id": "vHti769TtwjX"
      },
      "outputs": [],
      "source": [
        "display(left5, right5)"
      ]
    },
    {
      "cell_type": "code",
      "execution_count": null,
      "metadata": {
        "id": "ATTmOO4dtwjX"
      },
      "outputs": [],
      "source": [
        ""
      ]
    },
    {
      "cell_type": "code",
      "execution_count": null,
      "metadata": {
        "id": "r-snJbsptwjX"
      },
      "outputs": [],
      "source": [
        ""
      ]
    },
    {
      "cell_type": "code",
      "execution_count": null,
      "metadata": {
        "id": "59cFJhHttwjX"
      },
      "outputs": [],
      "source": [
        ""
      ]
    },
    {
      "cell_type": "code",
      "execution_count": null,
      "metadata": {
        "id": "LHFlQ5mdtwjX"
      },
      "outputs": [],
      "source": [
        ""
      ]
    },
    {
      "cell_type": "code",
      "execution_count": null,
      "metadata": {
        "id": "YSobiEQRtwjX"
      },
      "outputs": [],
      "source": [
        "left6 = pd.DataFrame({'lkey': ['x', 'y', 'z', 'x'],\n",
        "                        'lvalue': [2, 3, 5, 7]})\n",
        "\n",
        "right6 = pd.DataFrame({'rkey': ['a', 'b', 'c', 'b'],\n",
        "                         'rvalue': [7, 8, 9, 10]})"
      ]
    },
    {
      "cell_type": "code",
      "execution_count": null,
      "metadata": {
        "id": "5K139X8etwjX"
      },
      "outputs": [],
      "source": [
        "display(left6, right6)"
      ]
    },
    {
      "cell_type": "code",
      "execution_count": null,
      "metadata": {
        "id": "85n20UIWtwjY"
      },
      "outputs": [],
      "source": [
        ""
      ]
    },
    {
      "cell_type": "code",
      "execution_count": null,
      "metadata": {
        "id": "VzDTaPXUtwjY"
      },
      "outputs": [],
      "source": [
        ""
      ]
    },
    {
      "cell_type": "code",
      "execution_count": null,
      "metadata": {
        "id": "ZWs2FIoftwjY"
      },
      "outputs": [],
      "source": [
        ""
      ]
    },
    {
      "cell_type": "code",
      "execution_count": null,
      "metadata": {
        "id": "Oj7D1NqWtwjY"
      },
      "outputs": [],
      "source": [
        ""
      ]
    },
    {
      "cell_type": "code",
      "execution_count": null,
      "metadata": {
        "id": "a0qwFPCKtwjY"
      },
      "outputs": [],
      "source": [
        ""
      ]
    },
    {
      "cell_type": "markdown",
      "metadata": {
        "id": "qTtFLlPRv1Vz"
      },
      "source": [
        "## <p style=\"background-color:#9d4f8c; font-family:newtimeroman; color:#FFF9ED; font-size:175%; text-align:center; border-radius:10px 10px;\">Joining</p>\n",
        "\n",
        "<a id=\"5\"></a>\n",
        "<a href=\"#toc\" class=\"btn btn-primary btn-sm\" role=\"button\" aria-pressed=\"true\" \n",
        "style=\"color:blue; background-color:#dfa8e4\" data-toggle=\"popover\">Content</a>\n",
        "\n",
        "Joining is a convenient method for combining the columns of two potentially differently-indexed DataFrames into a single result DataFrame.\n",
        "\n",
        "It will combine all the columns from the two tables, with the common columns renamed with the defined lsuffix and rsuffix.\n",
        "\n",
        "The way that rows from the two tables are combined is defined by how [Source 01](https://www.educative.io/edpresso/three-ways-to-combine-dataframes-in-pandas), [Source 02](https://www.educba.com/python-pandas-join/), [Source 03](https://studymachinelearning.com/difference-between-merge-join-and-concatenate/), [Source 04](https://www.educba.com/pandas-dataframe-join/) & [Source 05](https://morioh.com/p/cc5cec94fb2d)."
      ]
    },
    {
      "cell_type": "code",
      "execution_count": null,
      "metadata": {
        "id": "D8ClDvmBv1Vz"
      },
      "outputs": [],
      "source": [
        "left7 = pd.DataFrame({'A': ['A0', 'A1', 'A2'],\n",
        "                     'B': ['B0', 'B1', 'B2']},\n",
        "                      index = ['K0', 'K1', 'K2']) \n",
        "\n",
        "right7 = pd.DataFrame({'C': ['C0', 'C2', 'C3'],\n",
        "                    'D': ['D0', 'D2', 'D3']},\n",
        "                      index = ['K0', 'K2', 'K3'])"
      ]
    },
    {
      "cell_type": "code",
      "execution_count": null,
      "metadata": {
        "id": "4b8HFYemv1Vz"
      },
      "outputs": [],
      "source": [
        "display(left7, right7)"
      ]
    },
    {
      "cell_type": "code",
      "execution_count": null,
      "metadata": {
        "id": "MVzy0IuDtwjY"
      },
      "outputs": [],
      "source": [
        ""
      ]
    },
    {
      "cell_type": "code",
      "execution_count": null,
      "metadata": {
        "id": "YsKS0A56twjY"
      },
      "outputs": [],
      "source": [
        ""
      ]
    },
    {
      "cell_type": "code",
      "execution_count": null,
      "metadata": {
        "id": "MvMpvwTTtwjY"
      },
      "outputs": [],
      "source": [
        ""
      ]
    },
    {
      "cell_type": "code",
      "execution_count": null,
      "metadata": {
        "id": "OAwyHfIJtwjY"
      },
      "outputs": [],
      "source": [
        ""
      ]
    },
    {
      "cell_type": "code",
      "execution_count": null,
      "metadata": {
        "id": "1W9pamA0v1V1"
      },
      "outputs": [],
      "source": [
        "left8 = pd.DataFrame({'key': ['K0', 'K2', 'K3', 'K4', 'K5', 'K6'],\n",
        "                   'X': ['X0', 'X2', 'X3', 'X4', 'X5', 'X6']})\n",
        "\n",
        "right8 = pd.DataFrame({'key': ['K0', 'K2', 'K3'],\n",
        "                      'Y': ['Y0', 'Y2', 'Y3']})"
      ]
    },
    {
      "cell_type": "code",
      "execution_count": null,
      "metadata": {
        "id": "SmaLqGvB9-oi"
      },
      "outputs": [],
      "source": [
        "display(left8, right8)"
      ]
    },
    {
      "cell_type": "markdown",
      "metadata": {
        "id": "cyQCFQ4ov1V1"
      },
      "source": [
        "Join DataFrames using their indexes."
      ]
    },
    {
      "cell_type": "code",
      "execution_count": null,
      "metadata": {
        "id": "wruhJDvPtwjZ"
      },
      "outputs": [],
      "source": [
        ""
      ]
    },
    {
      "cell_type": "code",
      "execution_count": null,
      "metadata": {
        "id": "jOTDzsJntwjZ"
      },
      "outputs": [],
      "source": [
        ""
      ]
    },
    {
      "cell_type": "markdown",
      "metadata": {
        "id": "RYM57kyqv1V1"
      },
      "source": [
        "If you want to join using the key columns, you need to set key to be the index in both df and other.<br>\n",
        "The joined DataFrame will have key as its index."
      ]
    },
    {
      "cell_type": "code",
      "execution_count": null,
      "metadata": {
        "id": "3o6X77KHtwjZ"
      },
      "outputs": [],
      "source": [
        ""
      ]
    },
    {
      "cell_type": "markdown",
      "metadata": {
        "id": "oveOViptv1V2"
      },
      "source": [
        "Another option to join using the key columns is to use the \"on\" parameter.<br>\n",
        "DataFrame.join always uses other’s index but we can use any column in df.<br>\n",
        "This method preserves the original DataFrame’s index in the result."
      ]
    },
    {
      "cell_type": "code",
      "execution_count": null,
      "metadata": {
        "id": "yHqXK4H-twjZ"
      },
      "outputs": [],
      "source": [
        ""
      ]
    },
    {
      "cell_type": "code",
      "execution_count": null,
      "metadata": {
        "id": "zMu2Z1SLtwjZ"
      },
      "outputs": [],
      "source": [
        ""
      ]
    },
    {
      "cell_type": "markdown",
      "metadata": {
        "id": "eUq4pg0htwjZ"
      },
      "source": [
        "## <p style=\"background-color:#9d4f8c; font-family:newtimeroman; color:#FFF9ED; font-size:175%; text-align:center; border-radius:10px 10px;\">More Examples</p>\n",
        "\n",
        "<a id=\"6\"></a>\n",
        "<a href=\"#toc\" class=\"btn btn-primary btn-sm\" role=\"button\" aria-pressed=\"true\" \n",
        "style=\"color:blue; background-color:#dfa8e4\" data-toggle=\"popover\">Content</a>"
      ]
    },
    {
      "cell_type": "code",
      "execution_count": null,
      "metadata": {
        "id": "ecqvZ9kltwjZ"
      },
      "outputs": [],
      "source": [
        "emps = pd.read_csv(\"employees.csv\")\n",
        "emps.head()"
      ]
    },
    {
      "cell_type": "code",
      "execution_count": null,
      "metadata": {
        "id": "5w4DzjvStwjZ"
      },
      "outputs": [],
      "source": [
        ""
      ]
    },
    {
      "cell_type": "code",
      "execution_count": null,
      "metadata": {
        "id": "HiaoA0A8twjZ"
      },
      "outputs": [],
      "source": [
        "jobs = pd.read_csv(\"jobs.csv\")\n",
        "jobs.head()"
      ]
    },
    {
      "cell_type": "code",
      "execution_count": null,
      "metadata": {
        "id": "N-17ShCStwjZ"
      },
      "outputs": [],
      "source": [
        ""
      ]
    },
    {
      "cell_type": "code",
      "execution_count": null,
      "metadata": {
        "id": "zyjgJ6c0twjZ"
      },
      "outputs": [],
      "source": [
        ""
      ]
    },
    {
      "cell_type": "code",
      "execution_count": null,
      "metadata": {
        "id": "rbfgcQUctwjZ"
      },
      "outputs": [],
      "source": [
        "authors = pd.read_csv(\"authors.csv\")\n",
        "authors.head()"
      ]
    },
    {
      "cell_type": "code",
      "execution_count": null,
      "metadata": {
        "id": "13w-6vUgtwjZ"
      },
      "outputs": [],
      "source": [
        ""
      ]
    },
    {
      "cell_type": "code",
      "execution_count": null,
      "metadata": {
        "id": "pqQhW2-Ptwja"
      },
      "outputs": [],
      "source": [
        "publishers = pd.read_csv(\"publishers.csv\")\n",
        "publishers.head()"
      ]
    },
    {
      "cell_type": "code",
      "execution_count": null,
      "metadata": {
        "id": "LuuOs7totwja"
      },
      "outputs": [],
      "source": [
        ""
      ]
    },
    {
      "cell_type": "code",
      "execution_count": null,
      "metadata": {
        "id": "yqjDjg_otwja"
      },
      "outputs": [],
      "source": [
        ""
      ]
    },
    {
      "cell_type": "code",
      "execution_count": null,
      "metadata": {
        "id": "rfxZ3N6Itwja"
      },
      "outputs": [],
      "source": [
        ""
      ]
    },
    {
      "cell_type": "markdown",
      "metadata": {
        "id": "wlpYHW16twja"
      },
      "source": [
        "## Difference between Merge, join, and concatenate\n",
        "\n",
        "The merge() and join() methods are the DataFrame method, not a series method. The concat() method is the pandas’ method which provides the functionality to combine the pandas’ objects such as DataFrame and Series.\n",
        "\n",
        "**Merge** \n",
        "\n",
        " - The merge() function used to merge the DataFrames with database-style join such as inner join, outer join, left join, right join.\n",
        " - Combining exactly two DataFrames.\n",
        " - The join is done on columns or indexes.\n",
        " - If joining columns on columns, the DataFrame indexes will be ignored.\n",
        " - If joining indexes on indexes or indexes on a column, the index will be passed on.\n",
        " \n",
        "\n",
        "**Join** \n",
        "\n",
        " - The join() function used to join two or more pandas DataFrames/Series horizontally.\n",
        " - Join() uses merge internally for the index-on-index (by default) and column(s)-on-index join.\n",
        " - Aligns the calling DataFrame’s column(s) or index with the other objects’ index (and not the columns).\n",
        " - Defaults to left join with options for right, inner and outer join\n",
        " \n",
        "\n",
        "**Concat** \n",
        "\n",
        " - concatenate two or more pandas DataFrames/Series vertically or horizontally.\n",
        " - Aligns only on the index by specifying the axis parameter.\n",
        " - Defaults to outer join with the option for inner join"
      ]
    },
    {
      "cell_type": "markdown",
      "metadata": {
        "id": "-ihZQv7jtwja"
      },
      "source": [
        "## <p style=\"background-color:#FDFEFE; font-family:newtimeroman; color:#9d4f8c; font-size:150%; text-align:center; border-radius:10px 10px;\">The End of The Session - 09</p>\n",
        "\n",
        "<a id=\"7\"></a>\n",
        "<a href=\"#toc\" class=\"btn btn-primary btn-sm\" role=\"button\" aria-pressed=\"true\" \n",
        "style=\"color:blue; background-color:#dfa8e4\" data-toggle=\"popover\">Content</a>"
      ]
    },
    {
      "cell_type": "markdown",
      "metadata": {
        "id": "N9BQGCuxv1V4"
      },
      "source": [
        "<p style=\"text-align: center;\"><img src=\"https://docs.google.com/uc?id=1lY0Uj5R04yMY3-ZppPWxqCr5pvBLYPnV\" class=\"img-fluid\" \n",
        "alt=\"CLRSWY\"></p>\n",
        "\n",
        "## <p style=\"background-color:#FDFEFE; font-family:newtimeroman; color:#9d4f8c; font-size:100%; text-align:center; border-radius:10px 10px;\">WAY TO REINVENT YOURSELF</p>\n",
        "\n",
        "____"
      ]
    }
  ],
  "metadata": {
    "colab": {
      "name": "DAwPy_S9_(Combining_DataFrames)-student.ipynb",
      "provenance": [],
      "include_colab_link": true
    },
    "kernelspec": {
      "display_name": "Python 3",
      "language": "python",
      "name": "python3"
    },
    "language_info": {
      "codemirror_mode": {
        "name": "ipython",
        "version": 3
      },
      "file_extension": ".py",
      "mimetype": "text/x-python",
      "name": "python",
      "nbconvert_exporter": "python",
      "pygments_lexer": "ipython3",
      "version": "3.7.6"
    },
    "toc": {
      "base_numbering": 1,
      "nav_menu": {},
      "number_sections": false,
      "sideBar": true,
      "skip_h1_title": false,
      "title_cell": "Table of Contents",
      "title_sidebar": "Contents",
      "toc_cell": false,
      "toc_position": {},
      "toc_section_display": true,
      "toc_window_display": false
    }
  },
  "nbformat": 4,
  "nbformat_minor": 0
}