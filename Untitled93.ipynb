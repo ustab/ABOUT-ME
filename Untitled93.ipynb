{
  "nbformat": 4,
  "nbformat_minor": 0,
  "metadata": {
    "colab": {
      "name": "Untitled93.ipynb",
      "provenance": [],
      "authorship_tag": "ABX9TyOr5VHeQIPirvOLYunAUav+",
      "include_colab_link": true
    },
    "kernelspec": {
      "name": "python3",
      "display_name": "Python 3"
    },
    "language_info": {
      "name": "python"
    }
  },
  "cells": [
    {
      "cell_type": "markdown",
      "metadata": {
        "id": "view-in-github",
        "colab_type": "text"
      },
      "source": [
        "<a href=\"https://colab.research.google.com/github/ustab/ALL-ABOUT-ME/blob/main/Untitled93.ipynb\" target=\"_parent\"><img src=\"https://colab.research.google.com/assets/colab-badge.svg\" alt=\"Open In Colab\"/></a>"
      ]
    },
    {
      "cell_type": "code",
      "execution_count": 4,
      "metadata": {
        "colab": {
          "base_uri": "https://localhost:8080/"
        },
        "id": "h1ehRlTZE32Z",
        "outputId": "4cbf6185-9a89-414c-d636-64615a84d32b"
      },
      "outputs": [
        {
          "output_type": "stream",
          "name": "stdout",
          "text": [
            "[1, 4, 9, 16, 25, 49]\n"
          ]
        }
      ],
      "source": [
        "#MAP FONKSIYONU ILE ORNEKLER\n",
        "list=[1,2,3,4,5,7]\n",
        "def kare_al(x): \n",
        "  return x*x\n",
        "list2=[]# bu bos listeyi yukaridaki kurala gore dolduracagiz. kural liste icindeki lemenlarin karesi olacak.doldurmak icin append fonksiyonunu kullanacagiz.\n",
        "for i in list:\n",
        "  list2.append(kare_al(i))\n",
        "print(list2)"
      ]
    },
    {
      "cell_type": "code",
      "source": [
        "list=[1,2,3,4,5,7]\n",
        "def kup_al(x): \n",
        "  return x*2\n",
        "list2=[]# bu bos listeyi yukaridaki kurala gore dolduracagiz. kural liste icindeki lemenlarin karesi olacak.doldurmak icin append fonksiyonunu kullanacagiz.\n",
        "for i in list:\n",
        "  list2.append(kare_al(i))\n",
        "print(list2)"
      ],
      "metadata": {
        "colab": {
          "base_uri": "https://localhost:8080/"
        },
        "id": "DTUSOxjWLRc9",
        "outputId": "e8fb8abc-6207-4d85-ee83-57e629a4c735"
      },
      "execution_count": 9,
      "outputs": [
        {
          "output_type": "stream",
          "name": "stdout",
          "text": [
            "[1, 4, 9, 16, 25, 49]\n"
          ]
        }
      ]
    },
    {
      "cell_type": "code",
      "source": [
        "list=[5,2,7,4,3]\n",
        "def carpbol(x): \n",
        "  return (x * 3)/6\n",
        "list2=[]# bu bos listeyi yukaridaki kurala gore dolduracagiz. kural liste icindeki lemenlarin carp ve bol olacak.doldurmak icin append fonksiyonunu kullanacagiz.\n",
        "for i in list:\n",
        "  list2.append(carpbol(i))\n",
        "print(list2)"
      ],
      "metadata": {
        "colab": {
          "base_uri": "https://localhost:8080/"
        },
        "id": "Xl-dVPsWL0et",
        "outputId": "62227f10-bda1-4280-dfa3-c3151d088ea4"
      },
      "execution_count": 20,
      "outputs": [
        {
          "output_type": "stream",
          "name": "stdout",
          "text": [
            "[2.5, 1.0, 3.5, 2.0, 1.5]\n"
          ]
        }
      ]
    },
    {
      "cell_type": "code",
      "source": [
        "list3=map(carpbol,list)\n",
        "print(list)\n"
      ],
      "metadata": {
        "colab": {
          "base_uri": "https://localhost:8080/"
        },
        "id": "ij3ztOJDNPRL",
        "outputId": "dab451e9-f48e-45b2-e1e8-868ac13a74e0"
      },
      "execution_count": 22,
      "outputs": [
        {
          "output_type": "stream",
          "name": "stdout",
          "text": [
            "[5, 2, 7, 4, 3]\n"
          ]
        }
      ]
    },
    {
      "cell_type": "code",
      "source": [
        "list=[1,2,3,4,5,7]\n",
        "def carp_al(x): \n",
        "  return x*2\n",
        "list2=[]# bu bos listeyi yukaridaki kurala gore dolduracagiz. kural liste icindeki lemenlarin karesi olacak.doldurmak icin append fonksiyonunu kullanacagiz.\n",
        "for i in list:\n",
        "  list2.append(carp_al(i))\n",
        "#print(list2)\n",
        "list3=map(carp_al, list)\n",
        "print (list3)\n",
        "#sonuc map  -.... <map object at 0x7efe715402d0>... - objesi olarak cikiyor. onu listeye cevirmek mumkun:"
      ],
      "metadata": {
        "colab": {
          "base_uri": "https://localhost:8080/"
        },
        "id": "cnlniA5MOa5u",
        "outputId": "6773a69f-db6b-49f0-90c3-4e9a97ef4ef4"
      },
      "execution_count": 26,
      "outputs": [
        {
          "output_type": "stream",
          "name": "stdout",
          "text": [
            "<map object at 0x7efe715402d0>\n"
          ]
        }
      ]
    },
    {
      "cell_type": "code",
      "source": [
        "list1=[1,2,3,4,5,7]\n",
        "def carp_al(x): \n",
        "  return x*2\n",
        "list2=[]# bu bos listeyi yukaridaki kurala gore dolduracagiz. kural liste icindeki lemenlarin karesi olacak.doldurmak icin append fonksiyonunu kullanacagiz.\n",
        "for i in list:\n",
        "  list2.append(carp_al(i))\n",
        "\n",
        "#print(list2)\n",
        "#list3=map(carp_al(i), list)\n",
        "list3 = list(map(carp_al, list1))\n",
        "print(list3)\n",
        "#print (list3) # ille de liste olmak zorunda degil tuple veya set de olabilir\n",
        "#sonuc map  -.... <map object at 0x7efe715402d0>... - objesi olarak cikiyor. onu listeye cevirmek mumkun:"
      ],
      "metadata": {
        "id": "WPxFZiKNPyuW"
      },
      "execution_count": null,
      "outputs": []
    },
    {
      "cell_type": "code",
      "source": [
        "liste=[1,2,3,4,5,6,7,8,9]\n",
        "liste2=set(map(lambda x:x**3,liste))\n",
        "print(liste2)"
      ],
      "metadata": {
        "colab": {
          "base_uri": "https://localhost:8080/"
        },
        "id": "4RZE_3LaUqB5",
        "outputId": "885f9095-8e3c-451e-e03e-b0ee91b84c39"
      },
      "execution_count": 53,
      "outputs": [
        {
          "output_type": "stream",
          "name": "stdout",
          "text": [
            "{64, 1, 512, 8, 343, 216, 729, 27, 125}\n"
          ]
        }
      ]
    },
    {
      "cell_type": "code",
      "source": [
        ""
      ],
      "metadata": {
        "id": "PQN2YgmDZL1L"
      },
      "execution_count": null,
      "outputs": []
    },
    {
      "cell_type": "code",
      "source": [
        ""
      ],
      "metadata": {
        "id": "X_agE17XYOAL"
      },
      "execution_count": null,
      "outputs": []
    }
  ]
}