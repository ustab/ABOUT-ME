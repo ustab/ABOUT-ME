{
  "nbformat": 4,
  "nbformat_minor": 0,
  "metadata": {
    "colab": {
      "name": "Untitled94.ipynb",
      "provenance": [],
      "authorship_tag": "ABX9TyNPCpwVE/294fLH+1ZVGfLB",
      "include_colab_link": true
    },
    "kernelspec": {
      "name": "python3",
      "display_name": "Python 3"
    },
    "language_info": {
      "name": "python"
    }
  },
  "cells": [
    {
      "cell_type": "markdown",
      "metadata": {
        "id": "view-in-github",
        "colab_type": "text"
      },
      "source": [
        "<a href=\"https://colab.research.google.com/github/ustab/ALL-ABOUT-ME/blob/main/Untitled94.ipynb\" target=\"_parent\"><img src=\"https://colab.research.google.com/assets/colab-badge.svg\" alt=\"Open In Colab\"/></a>"
      ]
    },
    {
      "cell_type": "code",
      "execution_count": 22,
      "metadata": {
        "colab": {
          "base_uri": "https://localhost:8080/"
        },
        "id": "5Vfk0Me8ZkaP",
        "outputId": "46b0923e-c0f0-4e0c-e0d8-5b8acc4624a4"
      },
      "outputs": [
        {
          "output_type": "stream",
          "name": "stdout",
          "text": [
            "(73, 215, 297, 182, 213)\n"
          ]
        }
      ],
      "source": [
        "liste1=[1,3,4,7,8]\n",
        "liste2=[3,5,9,0,1]\n",
        "liste3=[4,31,41,17,18]\n",
        "liste4=[23,35,49,50,61]\n",
        "def toplam(x,y,z,t):\n",
        "  return 2*x+y*3+z*4+t*2\n",
        "sonuc=tuple(map(toplam, liste1, liste2,liste3, liste4))\n",
        "#sonuc2=list(map(lambda x,y,z,t : 2*x+y*3+z*4+t*2, liste1, liste2,liste3,liste4)\n",
        "print(sonuc)"
      ]
    },
    {
      "cell_type": "code",
      "source": [
        "liste1=[1,3,4,7,8]\n",
        "liste2=[3,5,9,0,1]\n",
        "liste3=[4,31,41,17,18]\n",
        "liste4=[23,35,49,50,61]\n",
        "sonuc2=list(map(lambda x,y,z,t:2*x+y*3+z*4+t*2))\n",
        "print(sonuc2)\n"
      ],
      "metadata": {
        "id": "1pt8YfaDcDYV"
      },
      "execution_count": null,
      "outputs": []
    },
    {
      "cell_type": "code",
      "source": [
        ""
      ],
      "metadata": {
        "id": "QMQirq2Ec8KU"
      },
      "execution_count": null,
      "outputs": []
    }
  ]
}